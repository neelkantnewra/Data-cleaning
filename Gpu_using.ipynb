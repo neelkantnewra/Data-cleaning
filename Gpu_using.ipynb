{
  "nbformat": 4,
  "nbformat_minor": 0,
  "metadata": {
    "colab": {
      "name": "Gpu using.ipynb",
      "provenance": [],
      "toc_visible": true,
      "authorship_tag": "ABX9TyP63iFIgst7aTIH/mBQ+a01",
      "include_colab_link": true
    },
    "kernelspec": {
      "name": "python3",
      "display_name": "Python 3"
    },
    "language_info": {
      "name": "python"
    },
    "accelerator": "GPU"
  },
  "cells": [
    {
      "cell_type": "markdown",
      "metadata": {
        "id": "view-in-github",
        "colab_type": "text"
      },
      "source": [
        "<a href=\"https://colab.research.google.com/github/neelkantnewra/Data-cleaning/blob/main/Gpu_using.ipynb\" target=\"_parent\"><img src=\"https://colab.research.google.com/assets/colab-badge.svg\" alt=\"Open In Colab\"/></a>"
      ]
    },
    {
      "cell_type": "code",
      "metadata": {
        "id": "w2Wj8QpAIFOe"
      },
      "source": [
        "import numpy as np\n",
        "from random import randint\n",
        "from sklearn.utils import shuffle\n",
        "from sklearn.preprocessing import MinMaxScaler"
      ],
      "execution_count": 1,
      "outputs": []
    },
    {
      "cell_type": "code",
      "metadata": {
        "id": "Bp4gGhlbIxNG"
      },
      "source": [
        "train_labels =  []\n",
        "train_samples = []"
      ],
      "execution_count": 4,
      "outputs": []
    },
    {
      "cell_type": "code",
      "metadata": {
        "id": "7Ar1bpE7I8iQ"
      },
      "source": [
        "for i in range(50):\n",
        "  random_younger = randint(13,64)\n",
        "  train_samples.append(random_younger)\n",
        "  train_labels.append(1)\n",
        "\n",
        "  random_older = randint(65,100)\n",
        "  train_samples.append(random_older)\n",
        "  train_labels.append(0)\n",
        "\n",
        "for i in range(1000):\n",
        "  random_younger = randint(13,64)\n",
        "  train_samples.append(random_younger)\n",
        "  train_labels.append(0)\n",
        "\n",
        "  random_older = randint(65,100)\n",
        "  train_samples.append(random_older)\n",
        "  train_labels.append(1)"
      ],
      "execution_count": 5,
      "outputs": []
    },
    {
      "cell_type": "code",
      "metadata": {
        "id": "TB89oIaGKCrt"
      },
      "source": [
        "train_labels = np.array(train_labels)\n",
        "train_samples = np.array(train_samples)\n",
        "train_labels,train_samples = shuffle(train_labels,train_samples)"
      ],
      "execution_count": 9,
      "outputs": []
    },
    {
      "cell_type": "code",
      "metadata": {
        "id": "R2io3hJdKgNh"
      },
      "source": [
        "scaler = MinMaxScaler(feature_range=(0,1))\n",
        "scale_train_sample = scaler.fit_transform(train_samples.reshape(-1,1))"
      ],
      "execution_count": 10,
      "outputs": []
    },
    {
      "cell_type": "code",
      "metadata": {
        "id": "dA9jud3UK2U2"
      },
      "source": [
        "import tensorflow as tf\n",
        "from tensorflow import keras\n",
        "from tensorflow.keras.models import Sequential\n",
        "from tensorflow.keras.layers import Activation, Dense\n",
        "from tensorflow.keras.optimizers import Adam \n",
        "from tensorflow.keras.metrics import categorical_crossentropy"
      ],
      "execution_count": 13,
      "outputs": []
    },
    {
      "cell_type": "code",
      "metadata": {
        "colab": {
          "base_uri": "https://localhost:8080/"
        },
        "id": "VwrpRhmPK5YG",
        "outputId": "9b56a43f-10ad-4b3c-9e07-96b957843f3a"
      },
      "source": [
        "physical_devices = tf.config.experimental.list_physical_devices('GPU')\n",
        "print(f\"number of physical device: {len(physical_devices)}\")\n",
        "\n",
        "tf.config.experimental.set_memory_growth(physical_devices[0],True)\n"
      ],
      "execution_count": 14,
      "outputs": [
        {
          "output_type": "stream",
          "text": [
            "number of physical device: 1\n"
          ],
          "name": "stdout"
        }
      ]
    },
    {
      "cell_type": "code",
      "metadata": {
        "id": "cYr4gGnZM9mn"
      },
      "source": [
        "model = Sequential([\n",
        "                    Dense(units=16,input_shape = (1,),activation='relu'),\n",
        "                    Dense(units=32,activation='relu'),\n",
        "                    Dense(units=2,activation='softmax')\n",
        "])"
      ],
      "execution_count": 17,
      "outputs": []
    },
    {
      "cell_type": "code",
      "metadata": {
        "colab": {
          "base_uri": "https://localhost:8080/"
        },
        "id": "hf_785MCNZTv",
        "outputId": "a8c759a2-9d6f-4e34-ccd6-5bfc1b630ceb"
      },
      "source": [
        "model.summary()"
      ],
      "execution_count": 18,
      "outputs": [
        {
          "output_type": "stream",
          "text": [
            "Model: \"sequential_1\"\n",
            "_________________________________________________________________\n",
            "Layer (type)                 Output Shape              Param #   \n",
            "=================================================================\n",
            "dense_3 (Dense)              (None, 16)                32        \n",
            "_________________________________________________________________\n",
            "dense_4 (Dense)              (None, 32)                544       \n",
            "_________________________________________________________________\n",
            "dense_5 (Dense)              (None, 2)                 66        \n",
            "=================================================================\n",
            "Total params: 642\n",
            "Trainable params: 642\n",
            "Non-trainable params: 0\n",
            "_________________________________________________________________\n"
          ],
          "name": "stdout"
        }
      ]
    },
    {
      "cell_type": "code",
      "metadata": {
        "id": "Ht5EasyHNf_O"
      },
      "source": [
        "model.compile(optimizer=Adam(learning_rate=0.0001),\n",
        "              loss='sparse_categorical_crossentropy',\n",
        "              metrics=['accuracy'])"
      ],
      "execution_count": 19,
      "outputs": []
    },
    {
      "cell_type": "code",
      "metadata": {
        "colab": {
          "base_uri": "https://localhost:8080/"
        },
        "id": "LuIXdCh5OOD1",
        "outputId": "1264d8b2-c8f9-4389-dc0b-fce0b9563a08"
      },
      "source": [
        "model.fit(x=scale_train_sample,y=train_labels,validation_split=0.1,batch_size=10,epochs=30,\n",
        "          shuffle=True,verbose=2)"
      ],
      "execution_count": 21,
      "outputs": [
        {
          "output_type": "stream",
          "text": [
            "Epoch 1/30\n",
            "189/189 - 1s - loss: 0.2531 - accuracy: 0.9407 - val_loss: 0.3046 - val_accuracy: 0.9143\n",
            "Epoch 2/30\n",
            "189/189 - 0s - loss: 0.2522 - accuracy: 0.9402 - val_loss: 0.3045 - val_accuracy: 0.9143\n",
            "Epoch 3/30\n",
            "189/189 - 0s - loss: 0.2515 - accuracy: 0.9402 - val_loss: 0.3049 - val_accuracy: 0.9143\n",
            "Epoch 4/30\n",
            "189/189 - 0s - loss: 0.2505 - accuracy: 0.9439 - val_loss: 0.3052 - val_accuracy: 0.9143\n",
            "Epoch 5/30\n",
            "189/189 - 0s - loss: 0.2498 - accuracy: 0.9402 - val_loss: 0.3033 - val_accuracy: 0.9190\n",
            "Epoch 6/30\n",
            "189/189 - 0s - loss: 0.2491 - accuracy: 0.9476 - val_loss: 0.3044 - val_accuracy: 0.9143\n",
            "Epoch 7/30\n",
            "189/189 - 0s - loss: 0.2485 - accuracy: 0.9423 - val_loss: 0.3045 - val_accuracy: 0.9143\n",
            "Epoch 8/30\n",
            "189/189 - 0s - loss: 0.2477 - accuracy: 0.9450 - val_loss: 0.3043 - val_accuracy: 0.9143\n",
            "Epoch 9/30\n",
            "189/189 - 0s - loss: 0.2472 - accuracy: 0.9444 - val_loss: 0.3039 - val_accuracy: 0.9190\n",
            "Epoch 10/30\n",
            "189/189 - 0s - loss: 0.2467 - accuracy: 0.9444 - val_loss: 0.3040 - val_accuracy: 0.9143\n",
            "Epoch 11/30\n",
            "189/189 - 0s - loss: 0.2458 - accuracy: 0.9434 - val_loss: 0.3029 - val_accuracy: 0.9190\n",
            "Epoch 12/30\n",
            "189/189 - 0s - loss: 0.2455 - accuracy: 0.9476 - val_loss: 0.3029 - val_accuracy: 0.9190\n",
            "Epoch 13/30\n",
            "189/189 - 0s - loss: 0.2448 - accuracy: 0.9492 - val_loss: 0.3035 - val_accuracy: 0.9190\n",
            "Epoch 14/30\n",
            "189/189 - 0s - loss: 0.2442 - accuracy: 0.9492 - val_loss: 0.3035 - val_accuracy: 0.9190\n",
            "Epoch 15/30\n",
            "189/189 - 0s - loss: 0.2439 - accuracy: 0.9444 - val_loss: 0.3030 - val_accuracy: 0.9190\n",
            "Epoch 16/30\n",
            "189/189 - 0s - loss: 0.2434 - accuracy: 0.9487 - val_loss: 0.3028 - val_accuracy: 0.9190\n",
            "Epoch 17/30\n",
            "189/189 - 0s - loss: 0.2429 - accuracy: 0.9471 - val_loss: 0.3034 - val_accuracy: 0.9190\n",
            "Epoch 18/30\n",
            "189/189 - 0s - loss: 0.2424 - accuracy: 0.9455 - val_loss: 0.3018 - val_accuracy: 0.9190\n",
            "Epoch 19/30\n",
            "189/189 - 0s - loss: 0.2421 - accuracy: 0.9492 - val_loss: 0.3023 - val_accuracy: 0.9190\n",
            "Epoch 20/30\n",
            "189/189 - 0s - loss: 0.2416 - accuracy: 0.9460 - val_loss: 0.3022 - val_accuracy: 0.9190\n",
            "Epoch 21/30\n",
            "189/189 - 0s - loss: 0.2411 - accuracy: 0.9497 - val_loss: 0.3033 - val_accuracy: 0.9143\n",
            "Epoch 22/30\n",
            "189/189 - 0s - loss: 0.2410 - accuracy: 0.9476 - val_loss: 0.3027 - val_accuracy: 0.9190\n",
            "Epoch 23/30\n",
            "189/189 - 0s - loss: 0.2404 - accuracy: 0.9471 - val_loss: 0.3017 - val_accuracy: 0.9190\n",
            "Epoch 24/30\n",
            "189/189 - 0s - loss: 0.2401 - accuracy: 0.9492 - val_loss: 0.3020 - val_accuracy: 0.9190\n",
            "Epoch 25/30\n",
            "189/189 - 0s - loss: 0.2395 - accuracy: 0.9481 - val_loss: 0.3030 - val_accuracy: 0.9190\n",
            "Epoch 26/30\n",
            "189/189 - 0s - loss: 0.2392 - accuracy: 0.9481 - val_loss: 0.3016 - val_accuracy: 0.9190\n",
            "Epoch 27/30\n",
            "189/189 - 0s - loss: 0.2389 - accuracy: 0.9471 - val_loss: 0.3013 - val_accuracy: 0.9190\n",
            "Epoch 28/30\n",
            "189/189 - 0s - loss: 0.2384 - accuracy: 0.9487 - val_loss: 0.3009 - val_accuracy: 0.9190\n",
            "Epoch 29/30\n",
            "189/189 - 0s - loss: 0.2379 - accuracy: 0.9513 - val_loss: 0.3036 - val_accuracy: 0.9143\n",
            "Epoch 30/30\n",
            "189/189 - 0s - loss: 0.2379 - accuracy: 0.9455 - val_loss: 0.3035 - val_accuracy: 0.9143\n"
          ],
          "name": "stdout"
        },
        {
          "output_type": "execute_result",
          "data": {
            "text/plain": [
              "<tensorflow.python.keras.callbacks.History at 0x7f4390211650>"
            ]
          },
          "metadata": {
            "tags": []
          },
          "execution_count": 21
        }
      ]
    },
    {
      "cell_type": "code",
      "metadata": {
        "id": "ypA6t27tOi_7"
      },
      "source": [
        "test_labels =  []\n",
        "test_samples = []"
      ],
      "execution_count": 22,
      "outputs": []
    },
    {
      "cell_type": "code",
      "metadata": {
        "id": "EKDU5kpTPrG0"
      },
      "source": [
        "for i in range(10):\n",
        "  random_younger = randint(13,64)\n",
        "  test_samples.append(random_younger)\n",
        "  test_labels.append(1)\n",
        "\n",
        "  random_older = randint(65,100)\n",
        "  test_samples.append(random_older)\n",
        "  test_labels.append(0)\n",
        "\n",
        "for i in range(200):\n",
        "  random_younger = randint(13,64)\n",
        "  test_samples.append(random_younger)\n",
        "  test_labels.append(0)\n",
        "\n",
        "  random_older = randint(65,100)\n",
        "  test_samples.append(random_older)\n",
        "  test_labels.append(1)"
      ],
      "execution_count": 23,
      "outputs": []
    },
    {
      "cell_type": "code",
      "metadata": {
        "id": "BceFSO8zP9Og"
      },
      "source": [
        "test_labels = np.array(test_labels)\n",
        "test_samples = np.array(test_samples)\n",
        "test_labels,test_samples = shuffle(test_labels,test_samples)"
      ],
      "execution_count": 25,
      "outputs": []
    },
    {
      "cell_type": "code",
      "metadata": {
        "id": "H6XTxze7QNzN"
      },
      "source": [
        "scale_test_sample = scaler.fit_transform(test_samples.reshape(-1,1))"
      ],
      "execution_count": 26,
      "outputs": []
    },
    {
      "cell_type": "code",
      "metadata": {
        "id": "IHZD73gEQXIb"
      },
      "source": [
        "prediction = model.predict(x=scale_test_sample,batch_size=10,verbose=0)"
      ],
      "execution_count": 27,
      "outputs": []
    },
    {
      "cell_type": "code",
      "metadata": {
        "id": "YMhL-iheQhvX"
      },
      "source": [
        "rounded_prediction = np.argmax(prediction,axis=-1)"
      ],
      "execution_count": 29,
      "outputs": []
    },
    {
      "cell_type": "markdown",
      "metadata": {
        "id": "HyJtoKhgQ7T8"
      },
      "source": [
        "# confusion Matrix"
      ]
    },
    {
      "cell_type": "code",
      "metadata": {
        "id": "5vhciw0dQjoO"
      },
      "source": [
        "%matplotlib inline\n",
        "from sklearn.metrics import confusion_matrix\n",
        "import itertools\n",
        "import matplotlib.pyplot as plt"
      ],
      "execution_count": 37,
      "outputs": []
    },
    {
      "cell_type": "code",
      "metadata": {
        "id": "YpC4r8aIQvUC"
      },
      "source": [
        "cm = confusion_matrix(y_true=test_labels,y_pred=rounded_prediction)"
      ],
      "execution_count": 38,
      "outputs": []
    },
    {
      "cell_type": "code",
      "metadata": {
        "id": "XbYq3CIXTfg6"
      },
      "source": [
        "def plot_confusion_matrix(cm,classes,\n",
        "                          normalize=False,\n",
        "                          title = 'Confusion Matrix',\n",
        "                          cmap= plt.cm.Blues):\n",
        "  plt.imshow(cm,interpolation='nearest',cmap=cmap)\n",
        "  plt.title(title)\n",
        "  plt.colorbar()\n",
        "  tick_marks = np.arange(len(classes))\n",
        "  plt.xticks(tick_marks,classes,rotation=45)\n",
        "  plt.yticks(tick_marks,classes)\n",
        "\n",
        "  if normalize:\n",
        "    cm = cm.astype('float')/cm.sum(axis=1)[:np.newaxis]\n",
        "    print(\"Normalized confusion Matrix\")\n",
        "  else:\n",
        "    print('Confusion matrix, without normalisation')\n",
        "\n",
        "  print(cm)\n",
        "  \n",
        "  thresh = cm.max()/2\n",
        "  for i,j in itertools.product(range(cm.shape[0]),range(cm.shape[1])):\n",
        "    plt.text(j,i,cm[i,j],\n",
        "             horizontalalignment = 'center',\n",
        "             color = 'white' if cm[i,j]>thresh else 'black')\n",
        "    \n",
        "  plt.tight_layout()\n",
        "  plt.ylabel('True label')\n",
        "  plt.xlabel('Predicted label')"
      ],
      "execution_count": 41,
      "outputs": []
    },
    {
      "cell_type": "code",
      "metadata": {
        "colab": {
          "base_uri": "https://localhost:8080/",
          "height": 362
        },
        "id": "HNB4l6pfRa9F",
        "outputId": "22440c07-55a2-45d2-f766-8a59aa496498"
      },
      "source": [
        "cm_plot_labels = ['no side effect','had side effect']\n",
        "plot_confusion_matrix(cm=cm,classes=cm_plot_labels,title= \"Confusion Matrix\")"
      ],
      "execution_count": 42,
      "outputs": [
        {
          "output_type": "stream",
          "text": [
            "Confusion matrix, without normalisation\n",
            "[[192  18]\n",
            " [ 10 200]]\n"
          ],
          "name": "stdout"
        },
        {
          "output_type": "display_data",
          "data": {
            "image/png": "[encoded data removed]",
            "text/plain": [
              "<Figure size 432x288 with 2 Axes>"
            ]
          },
          "metadata": {
            "tags": [],
            "needs_background": "light"
          }
        }
      ]
    },
    {
      "cell_type": "code",
      "metadata": {
        "colab": {
          "base_uri": "https://localhost:8080/"
        },
        "id": "DI5aJkQoSul5",
        "outputId": "31aaa5ab-e79d-4a0c-b358-1775134e1af2"
      },
      "source": [
        "model.summary()"
      ],
      "execution_count": 43,
      "outputs": [
        {
          "output_type": "stream",
          "text": [
            "Model: \"sequential_1\"\n",
            "_________________________________________________________________\n",
            "Layer (type)                 Output Shape              Param #   \n",
            "=================================================================\n",
            "dense_3 (Dense)              (None, 16)                32        \n",
            "_________________________________________________________________\n",
            "dense_4 (Dense)              (None, 32)                544       \n",
            "_________________________________________________________________\n",
            "dense_5 (Dense)              (None, 2)                 66        \n",
            "=================================================================\n",
            "Total params: 642\n",
            "Trainable params: 642\n",
            "Non-trainable params: 0\n",
            "_________________________________________________________________\n"
          ],
          "name": "stdout"
        }
      ]
    },
    {
      "cell_type": "code",
      "metadata": {
        "id": "WNom3KkBWckp"
      },
      "source": [
        "model.save(\"medical_trial_model.h5\")"
      ],
      "execution_count": 44,
      "outputs": []
    },
    {
      "cell_type": "code",
      "metadata": {
        "id": "4P-cfsS_Wqs8"
      },
      "source": [
        "from tensorflow.keras.models import load_model\n",
        "\n",
        "new_model = load_model(\"/content/medical_trial_model.h5\")"
      ],
      "execution_count": 45,
      "outputs": []
    },
    {
      "cell_type": "code",
      "metadata": {
        "colab": {
          "base_uri": "https://localhost:8080/"
        },
        "id": "PkzJsk3kXAXl",
        "outputId": "3249b63a-3ee2-4141-c2ba-97ed881305d3"
      },
      "source": [
        "new_model.summary()"
      ],
      "execution_count": 46,
      "outputs": [
        {
          "output_type": "stream",
          "text": [
            "Model: \"sequential_1\"\n",
            "_________________________________________________________________\n",
            "Layer (type)                 Output Shape              Param #   \n",
            "=================================================================\n",
            "dense_3 (Dense)              (None, 16)                32        \n",
            "_________________________________________________________________\n",
            "dense_4 (Dense)              (None, 32)                544       \n",
            "_________________________________________________________________\n",
            "dense_5 (Dense)              (None, 2)                 66        \n",
            "=================================================================\n",
            "Total params: 642\n",
            "Trainable params: 642\n",
            "Non-trainable params: 0\n",
            "_________________________________________________________________\n"
          ],
          "name": "stdout"
        }
      ]
    },
    {
      "cell_type": "code",
      "metadata": {
        "colab": {
          "base_uri": "https://localhost:8080/"
        },
        "id": "jfTBSSI5XDQ1",
        "outputId": "964acbc2-4ea2-4f68-af6c-6a006e787332"
      },
      "source": [
        "new_model.optimizer"
      ],
      "execution_count": 48,
      "outputs": [
        {
          "output_type": "execute_result",
          "data": {
            "text/plain": [
              "<tensorflow.python.keras.optimizer_v2.adam.Adam at 0x7f433a045650>"
            ]
          },
          "metadata": {
            "tags": []
          },
          "execution_count": 48
        }
      ]
    },
    {
      "cell_type": "code",
      "metadata": {
        "id": "x_BLVo6DXGms"
      },
      "source": [
        ""
      ],
      "execution_count": null,
      "outputs": []
    }
  ]
}